{
 "cells": [
  {
   "cell_type": "markdown",
   "metadata": {},
   "source": [
    "Biodiversity in National Parks Project"
   ]
  },
  {
   "cell_type": "markdown",
   "metadata": {},
   "source": [
    "Scope: Analyze data about endangered species from various national parks to look for patterns in what types of animals become endangered and locations of endangered species."
   ]
  },
  {
   "cell_type": "code",
   "execution_count": 1,
   "metadata": {},
   "outputs": [],
   "source": [
    "# Import libraries\n",
    "import pandas as pd\n",
    "import matplotlib.pyplot as plt\n",
    "import seaborn as sns\n",
    "import numpy as np"
   ]
  },
  {
   "cell_type": "code",
   "execution_count": 2,
   "metadata": {},
   "outputs": [],
   "source": [
    "# Read csv files\n",
    "observations_df = pd.read_csv('observations.csv')\n",
    "species_df = pd.read_csv('species_info.csv')"
   ]
  },
  {
   "cell_type": "code",
   "execution_count": 3,
   "metadata": {
    "scrolled": true
   },
   "outputs": [
    {
     "name": "stdout",
     "output_type": "stream",
     "text": [
      "            scientific_name                            park_name  observations\n",
      "0        Vicia benghalensis  Great Smoky Mountains National Park            68\n",
      "1            Neovison vison  Great Smoky Mountains National Park            77\n",
      "2         Prunus subcordata               Yosemite National Park           138\n",
      "3      Abutilon theophrasti                  Bryce National Park            84\n",
      "4  Githopsis specularioides  Great Smoky Mountains National Park            85\n",
      "<class 'pandas.core.frame.DataFrame'>\n",
      "RangeIndex: 23296 entries, 0 to 23295\n",
      "Data columns (total 3 columns):\n",
      " #   Column           Non-Null Count  Dtype \n",
      "---  ------           --------------  ----- \n",
      " 0   scientific_name  23296 non-null  object\n",
      " 1   park_name        23296 non-null  object\n",
      " 2   observations     23296 non-null  int64 \n",
      "dtypes: int64(1), object(2)\n",
      "memory usage: 546.1+ KB\n"
     ]
    }
   ],
   "source": [
    "# Inspect observation data\n",
    "print(observations_df.head())\n",
    "observations_df.info()\n",
    "observations_df.describe()\n",
    "observations_df.drop_duplicates(subset = 'scientific_name', inplace = True)"
   ]
  },
  {
   "cell_type": "code",
   "execution_count": 4,
   "metadata": {},
   "outputs": [
    {
     "data": {
      "image/png": "[encoded data removed]",
      "text/plain": [
       "<Figure size 432x288 with 1 Axes>"
      ]
     },
     "metadata": {
      "needs_background": "light"
     },
     "output_type": "display_data"
    },
    {
     "data": {
      "text/plain": [
       "<Figure size 432x288 with 0 Axes>"
      ]
     },
     "metadata": {},
     "output_type": "display_data"
    }
   ],
   "source": [
    "# Plot distribution of observations\n",
    "sns.histplot(x = observations_df.observations)\n",
    "plt.title('Distribution of Species Observations')\n",
    "plt.show()\n",
    "plt.clf()"
   ]
  },
  {
   "cell_type": "code",
   "execution_count": 5,
   "metadata": {},
   "outputs": [
    {
     "name": "stdout",
     "output_type": "stream",
     "text": [
      "  category                scientific_name  \\\n",
      "0   Mammal  Clethrionomys gapperi gapperi   \n",
      "1   Mammal                      Bos bison   \n",
      "2   Mammal                     Bos taurus   \n",
      "3   Mammal                     Ovis aries   \n",
      "4   Mammal                 Cervus elaphus   \n",
      "\n",
      "                                        common_names conservation_status  \n",
      "0                           Gapper's Red-Backed Vole                 NaN  \n",
      "1                              American Bison, Bison                 NaN  \n",
      "2  Aurochs, Aurochs, Domestic Cattle (Feral), Dom...                 NaN  \n",
      "3  Domestic Sheep, Mouflon, Red Sheep, Sheep (Feral)                 NaN  \n",
      "4                                      Wapiti Or Elk                 NaN  \n",
      "<class 'pandas.core.frame.DataFrame'>\n",
      "RangeIndex: 5824 entries, 0 to 5823\n",
      "Data columns (total 4 columns):\n",
      " #   Column               Non-Null Count  Dtype \n",
      "---  ------               --------------  ----- \n",
      " 0   category             5824 non-null   object\n",
      " 1   scientific_name      5824 non-null   object\n",
      " 2   common_names         5824 non-null   object\n",
      " 3   conservation_status  191 non-null    object\n",
      "dtypes: object(4)\n",
      "memory usage: 182.1+ KB\n"
     ]
    }
   ],
   "source": [
    "# Inspect species data\n",
    "print(species_df.head())\n",
    "species_df.info()\n",
    "species_df.describe()\n",
    "species_df.drop_duplicates(inplace = True)"
   ]
  },
  {
   "cell_type": "code",
   "execution_count": 6,
   "metadata": {},
   "outputs": [
    {
     "data": {
      "text/plain": [
       "category\n",
       "Amphibian              80\n",
       "Bird                  521\n",
       "Fish                  127\n",
       "Mammal                214\n",
       "Nonvascular Plant     333\n",
       "Reptile                79\n",
       "Vascular Plant       4470\n",
       "dtype: int64"
      ]
     },
     "execution_count": 6,
     "metadata": {},
     "output_type": "execute_result"
    }
   ],
   "source": [
    "species_df.groupby('category').size()"
   ]
  },
  {
   "cell_type": "code",
   "execution_count": 7,
   "metadata": {},
   "outputs": [],
   "source": [
    "species_df.fillna('No Intervention', inplace = True)"
   ]
  },
  {
   "cell_type": "code",
   "execution_count": 8,
   "metadata": {},
   "outputs": [
    {
     "data": {
      "image/png": "[encoded data removed]",
      "text/plain": [
       "<Figure size 432x288 with 1 Axes>"
      ]
     },
     "metadata": {
      "needs_background": "light"
     },
     "output_type": "display_data"
    },
    {
     "data": {
      "image/png": "[encoded data removed]",
      "text/plain": [
       "<Figure size 432x288 with 1 Axes>"
      ]
     },
     "metadata": {
      "needs_background": "light"
     },
     "output_type": "display_data"
    },
    {
     "data": {
      "text/plain": [
       "<Figure size 432x288 with 0 Axes>"
      ]
     },
     "metadata": {},
     "output_type": "display_data"
    }
   ],
   "source": [
    "# Plot distribution of conservation status\n",
    "sns.histplot(x = species_df.conservation_status)\n",
    "plt.title('Distribution of Conservation Status')\n",
    "plt.xlabel('Conservation Status')\n",
    "plt.ylabel('Number of Species')\n",
    "plt.xticks(rotation = 30)\n",
    "plt.show()\n",
    "plt.clf()\n",
    "\n",
    "sns.histplot(x = species_df.conservation_status[species_df.conservation_status != 'No Intervention'])\n",
    "plt.title('Distribution of Conservation Status (excluding \"No Intervention\")')\n",
    "plt.xlabel('Conservation Status')\n",
    "plt.ylabel('Number of Species')\n",
    "plt.xticks(rotation = 30)\n",
    "plt.show()\n",
    "plt.clf()"
   ]
  },
  {
   "cell_type": "markdown",
   "metadata": {},
   "source": [
    "The majority of the species observed is not of concern for conservation purposes. Of the species that are of some concern, around 160 are Species of Concern, while approximately 15 are Endangered, approximately 10 are Threatened, and approximately 5 are In Recovery."
   ]
  },
  {
   "cell_type": "code",
   "execution_count": 9,
   "metadata": {
    "scrolled": true
   },
   "outputs": [
    {
     "data": {
      "text/html": [
       "<div>\n",
       "<style scoped>\n",
       "    .dataframe tbody tr th:only-of-type {\n",
       "        vertical-align: middle;\n",
       "    }\n",
       "\n",
       "    .dataframe tbody tr th {\n",
       "        vertical-align: top;\n",
       "    }\n",
       "\n",
       "    .dataframe thead th {\n",
       "        text-align: right;\n",
       "    }\n",
       "</style>\n",
       "<table border=\"1\" class=\"dataframe\">\n",
       "  <thead>\n",
       "    <tr style=\"text-align: right;\">\n",
       "      <th>category</th>\n",
       "      <th>Amphibian</th>\n",
       "      <th>Bird</th>\n",
       "      <th>Fish</th>\n",
       "      <th>Mammal</th>\n",
       "      <th>Nonvascular Plant</th>\n",
       "      <th>Reptile</th>\n",
       "      <th>Vascular Plant</th>\n",
       "    </tr>\n",
       "    <tr>\n",
       "      <th>conservation_status</th>\n",
       "      <th></th>\n",
       "      <th></th>\n",
       "      <th></th>\n",
       "      <th></th>\n",
       "      <th></th>\n",
       "      <th></th>\n",
       "      <th></th>\n",
       "    </tr>\n",
       "  </thead>\n",
       "  <tbody>\n",
       "    <tr>\n",
       "      <th>Endangered</th>\n",
       "      <td>1.0</td>\n",
       "      <td>4.0</td>\n",
       "      <td>3.0</td>\n",
       "      <td>7.0</td>\n",
       "      <td>NaN</td>\n",
       "      <td>NaN</td>\n",
       "      <td>1.0</td>\n",
       "    </tr>\n",
       "    <tr>\n",
       "      <th>In Recovery</th>\n",
       "      <td>NaN</td>\n",
       "      <td>3.0</td>\n",
       "      <td>NaN</td>\n",
       "      <td>1.0</td>\n",
       "      <td>NaN</td>\n",
       "      <td>NaN</td>\n",
       "      <td>NaN</td>\n",
       "    </tr>\n",
       "    <tr>\n",
       "      <th>Species of Concern</th>\n",
       "      <td>4.0</td>\n",
       "      <td>72.0</td>\n",
       "      <td>4.0</td>\n",
       "      <td>28.0</td>\n",
       "      <td>5.0</td>\n",
       "      <td>5.0</td>\n",
       "      <td>43.0</td>\n",
       "    </tr>\n",
       "    <tr>\n",
       "      <th>Threatened</th>\n",
       "      <td>2.0</td>\n",
       "      <td>NaN</td>\n",
       "      <td>4.0</td>\n",
       "      <td>2.0</td>\n",
       "      <td>NaN</td>\n",
       "      <td>NaN</td>\n",
       "      <td>2.0</td>\n",
       "    </tr>\n",
       "  </tbody>\n",
       "</table>\n",
       "</div>"
      ],
      "text/plain": [
       "category             Amphibian  Bird  Fish  Mammal  Nonvascular Plant  \\\n",
       "conservation_status                                                     \n",
       "Endangered                 1.0   4.0   3.0     7.0                NaN   \n",
       "In Recovery                NaN   3.0   NaN     1.0                NaN   \n",
       "Species of Concern         4.0  72.0   4.0    28.0                5.0   \n",
       "Threatened                 2.0   NaN   4.0     2.0                NaN   \n",
       "\n",
       "category             Reptile  Vascular Plant  \n",
       "conservation_status                           \n",
       "Endangered               NaN             1.0  \n",
       "In Recovery              NaN             NaN  \n",
       "Species of Concern       5.0            43.0  \n",
       "Threatened               NaN             2.0  "
      ]
     },
     "execution_count": 9,
     "metadata": {},
     "output_type": "execute_result"
    }
   ],
   "source": [
    "species_category = species_df[species_df.conservation_status != 'No Intervention'].groupby(['conservation_status', 'category'])['scientific_name'].count().unstack()\n",
    "species_category"
   ]
  },
  {
   "cell_type": "code",
   "execution_count": 10,
   "metadata": {},
   "outputs": [
    {
     "data": {
      "image/png": "[encoded data removed]",
      "text/plain": [
       "<Figure size 648x360 with 1 Axes>"
      ]
     },
     "metadata": {
      "needs_background": "light"
     },
     "output_type": "display_data"
    },
    {
     "data": {
      "text/plain": [
       "<Figure size 432x288 with 0 Axes>"
      ]
     },
     "metadata": {},
     "output_type": "display_data"
    }
   ],
   "source": [
    "ax = species_category.plot(kind = 'bar', stacked = True, figsize = (9, 5))\n",
    "plt.title('Conservation Status Species Count by Species Category')\n",
    "ax.set_xlabel('Conservation Status')\n",
    "ax.set_ylabel('Number of Species')\n",
    "plt.show()\n",
    "plt.clf()"
   ]
  },
  {
   "cell_type": "markdown",
   "metadata": {},
   "source": [
    "The vast majority of the observed species are Species of Concern. This is the only conservation category that contains species from all 7 species categories. The Endangered category includes mammals, vascular plants, fish, birds, nonvascular plants, and amphibians. In Recovery includes birds and mammals. Threatened contains vascular plants, mammals, fish, and amphibians.\n",
    "\n",
    "Mammals and birds are the most likely to be endangered (confirmed by contingency table below)."
   ]
  },
  {
   "cell_type": "code",
   "execution_count": 11,
   "metadata": {},
   "outputs": [
    {
     "data": {
      "text/html": [
       "<div>\n",
       "<style scoped>\n",
       "    .dataframe tbody tr th:only-of-type {\n",
       "        vertical-align: middle;\n",
       "    }\n",
       "\n",
       "    .dataframe tbody tr th {\n",
       "        vertical-align: top;\n",
       "    }\n",
       "\n",
       "    .dataframe thead th {\n",
       "        text-align: right;\n",
       "    }\n",
       "</style>\n",
       "<table border=\"1\" class=\"dataframe\">\n",
       "  <thead>\n",
       "    <tr style=\"text-align: right;\">\n",
       "      <th></th>\n",
       "      <th>category</th>\n",
       "      <th>not protected</th>\n",
       "      <th>protected</th>\n",
       "    </tr>\n",
       "  </thead>\n",
       "  <tbody>\n",
       "    <tr>\n",
       "      <th>0</th>\n",
       "      <td>Amphibian</td>\n",
       "      <td>72</td>\n",
       "      <td>7</td>\n",
       "    </tr>\n",
       "    <tr>\n",
       "      <th>1</th>\n",
       "      <td>Bird</td>\n",
       "      <td>413</td>\n",
       "      <td>75</td>\n",
       "    </tr>\n",
       "    <tr>\n",
       "      <th>2</th>\n",
       "      <td>Fish</td>\n",
       "      <td>115</td>\n",
       "      <td>11</td>\n",
       "    </tr>\n",
       "    <tr>\n",
       "      <th>3</th>\n",
       "      <td>Mammal</td>\n",
       "      <td>146</td>\n",
       "      <td>30</td>\n",
       "    </tr>\n",
       "    <tr>\n",
       "      <th>4</th>\n",
       "      <td>Nonvascular Plant</td>\n",
       "      <td>328</td>\n",
       "      <td>5</td>\n",
       "    </tr>\n",
       "    <tr>\n",
       "      <th>5</th>\n",
       "      <td>Reptile</td>\n",
       "      <td>73</td>\n",
       "      <td>5</td>\n",
       "    </tr>\n",
       "    <tr>\n",
       "      <th>6</th>\n",
       "      <td>Vascular Plant</td>\n",
       "      <td>4216</td>\n",
       "      <td>46</td>\n",
       "    </tr>\n",
       "  </tbody>\n",
       "</table>\n",
       "</div>"
      ],
      "text/plain": [
       "            category  not protected  protected\n",
       "0          Amphibian             72          7\n",
       "1               Bird            413         75\n",
       "2               Fish            115         11\n",
       "3             Mammal            146         30\n",
       "4  Nonvascular Plant            328          5\n",
       "5            Reptile             73          5\n",
       "6     Vascular Plant           4216         46"
      ]
     },
     "execution_count": 11,
     "metadata": {},
     "output_type": "execute_result"
    }
   ],
   "source": [
    "# Observed frequency table\n",
    "species_df['is_protected'] = species_df.conservation_status != 'No Intervention'\n",
    "category_counts = species_df.groupby(['category', 'is_protected']).scientific_name.nunique().reset_index().pivot(columns = 'is_protected', index = 'category', values = 'scientific_name').reset_index()\n",
    "category_counts.columns = ['category', 'not protected', 'protected']\n",
    "category_counts"
   ]
  },
  {
   "cell_type": "code",
   "execution_count": 12,
   "metadata": {},
   "outputs": [
    {
     "data": {
      "text/html": [
       "<div>\n",
       "<style scoped>\n",
       "    .dataframe tbody tr th:only-of-type {\n",
       "        vertical-align: middle;\n",
       "    }\n",
       "\n",
       "    .dataframe tbody tr th {\n",
       "        vertical-align: top;\n",
       "    }\n",
       "\n",
       "    .dataframe thead th {\n",
       "        text-align: right;\n",
       "    }\n",
       "</style>\n",
       "<table border=\"1\" class=\"dataframe\">\n",
       "  <thead>\n",
       "    <tr style=\"text-align: right;\">\n",
       "      <th></th>\n",
       "      <th>category</th>\n",
       "      <th>not protected</th>\n",
       "      <th>protected</th>\n",
       "      <th>percent protected</th>\n",
       "    </tr>\n",
       "  </thead>\n",
       "  <tbody>\n",
       "    <tr>\n",
       "      <th>0</th>\n",
       "      <td>Amphibian</td>\n",
       "      <td>72</td>\n",
       "      <td>7</td>\n",
       "      <td>8.860759</td>\n",
       "    </tr>\n",
       "    <tr>\n",
       "      <th>1</th>\n",
       "      <td>Bird</td>\n",
       "      <td>413</td>\n",
       "      <td>75</td>\n",
       "      <td>15.368852</td>\n",
       "    </tr>\n",
       "    <tr>\n",
       "      <th>2</th>\n",
       "      <td>Fish</td>\n",
       "      <td>115</td>\n",
       "      <td>11</td>\n",
       "      <td>8.730159</td>\n",
       "    </tr>\n",
       "    <tr>\n",
       "      <th>3</th>\n",
       "      <td>Mammal</td>\n",
       "      <td>146</td>\n",
       "      <td>30</td>\n",
       "      <td>17.045455</td>\n",
       "    </tr>\n",
       "    <tr>\n",
       "      <th>4</th>\n",
       "      <td>Nonvascular Plant</td>\n",
       "      <td>328</td>\n",
       "      <td>5</td>\n",
       "      <td>1.501502</td>\n",
       "    </tr>\n",
       "    <tr>\n",
       "      <th>5</th>\n",
       "      <td>Reptile</td>\n",
       "      <td>73</td>\n",
       "      <td>5</td>\n",
       "      <td>6.410256</td>\n",
       "    </tr>\n",
       "    <tr>\n",
       "      <th>6</th>\n",
       "      <td>Vascular Plant</td>\n",
       "      <td>4216</td>\n",
       "      <td>46</td>\n",
       "      <td>1.079305</td>\n",
       "    </tr>\n",
       "  </tbody>\n",
       "</table>\n",
       "</div>"
      ],
      "text/plain": [
       "            category  not protected  protected  percent protected\n",
       "0          Amphibian             72          7           8.860759\n",
       "1               Bird            413         75          15.368852\n",
       "2               Fish            115         11           8.730159\n",
       "3             Mammal            146         30          17.045455\n",
       "4  Nonvascular Plant            328          5           1.501502\n",
       "5            Reptile             73          5           6.410256\n",
       "6     Vascular Plant           4216         46           1.079305"
      ]
     },
     "execution_count": 12,
     "metadata": {},
     "output_type": "execute_result"
    }
   ],
   "source": [
    "# Add 'percent protected' column to category_counts\n",
    "category_counts['percent protected'] = category_counts['protected'] / (category_counts['protected'] + category_counts['not protected']) * 100\n",
    "category_counts"
   ]
  },
  {
   "cell_type": "code",
   "execution_count": 13,
   "metadata": {},
   "outputs": [],
   "source": [
    "from scipy.stats import chi2_contingency"
   ]
  },
  {
   "cell_type": "code",
   "execution_count": 14,
   "metadata": {},
   "outputs": [
    {
     "data": {
      "text/plain": [
       "(0.1617014831654557,\n",
       " 0.6875948096661336,\n",
       " 1,\n",
       " array([[ 27.8313253, 148.1686747],\n",
       "        [ 77.1686747, 410.8313253]]))"
      ]
     },
     "execution_count": 14,
     "metadata": {},
     "output_type": "execute_result"
    }
   ],
   "source": [
    "# Check for significance (pval < 0.05) between conservation status of mammals and birds\n",
    "contingency_1 = [[30, 146],\n",
    "                [75, 413]]\n",
    "chi2_contingency(contingency_1)"
   ]
  },
  {
   "cell_type": "markdown",
   "metadata": {},
   "source": [
    "The chi2 statistic is 0.16, which is low, and the p-value is 0.69, which is larger than 0.05. These indicate that there is no statistical significance in the difference in conservation status between mammals and birds."
   ]
  },
  {
   "cell_type": "code",
   "execution_count": 15,
   "metadata": {
    "scrolled": true
   },
   "outputs": [
    {
     "data": {
      "text/plain": [
       "(4.289183096203645,\n",
       " 0.03835559022969898,\n",
       " 1,\n",
       " array([[ 24.2519685, 151.7480315],\n",
       "        [ 10.7480315,  67.2519685]]))"
      ]
     },
     "execution_count": 15,
     "metadata": {},
     "output_type": "execute_result"
    }
   ],
   "source": [
    "# Check for significance (pval < 0.05) between conservation status of mammals and reptiles\n",
    "contingency_2 = [[30, 146],\n",
    "                [5, 73]]\n",
    "chi2_contingency(contingency_2)"
   ]
  },
  {
   "cell_type": "markdown",
   "metadata": {},
   "source": [
    "The chi2 statistic is 4.3, and the p-value is 0.04, which indicate that there is a statistical significance between the conservation status of mammals and reptiles. Mammals are more likely to be protected species."
   ]
  },
  {
   "cell_type": "code",
   "execution_count": 16,
   "metadata": {},
   "outputs": [
    {
     "data": {
      "text/plain": [
       "(3.7396547786854963,\n",
       " 0.05313542232154235,\n",
       " 1,\n",
       " array([[ 68.97526502, 419.02473498],\n",
       "        [ 11.02473498,  66.97526502]]))"
      ]
     },
     "execution_count": 16,
     "metadata": {},
     "output_type": "execute_result"
    }
   ],
   "source": [
    "# Check for significance (pval < 0.05) between conservation status of birds and reptiles\n",
    "contingency_3 = [[75, 413],\n",
    "                [5, 73]]\n",
    "chi2_contingency(contingency_3)"
   ]
  },
  {
   "cell_type": "markdown",
   "metadata": {},
   "source": [
    "The chi2 statistic is 3.7, and the p-value is 0.05, which does not show strong evidence either way if there is a significant difference in the conservation status of birds and reptiles."
   ]
  },
  {
   "cell_type": "code",
   "execution_count": 17,
   "metadata": {},
   "outputs": [
    {
     "data": {
      "text/plain": [
       "array(['Great Smoky Mountains National Park', 'Yosemite National Park',\n",
       "       'Bryce National Park', 'Yellowstone National Park'], dtype=object)"
      ]
     },
     "execution_count": 17,
     "metadata": {},
     "output_type": "execute_result"
    }
   ],
   "source": [
    "# Explore which species were spotted most at each park\n",
    "observations_df.park_name.unique()"
   ]
  },
  {
   "cell_type": "code",
   "execution_count": 18,
   "metadata": {},
   "outputs": [
    {
     "name": "stdout",
     "output_type": "stream",
     "text": [
      "            scientific_name                            park_name  \\\n",
      "0        Vicia benghalensis  Great Smoky Mountains National Park   \n",
      "1            Neovison vison  Great Smoky Mountains National Park   \n",
      "2         Prunus subcordata               Yosemite National Park   \n",
      "3      Abutilon theophrasti                  Bryce National Park   \n",
      "4  Githopsis specularioides  Great Smoky Mountains National Park   \n",
      "\n",
      "   observations        category                        common_names  \\\n",
      "0            68  Vascular Plant  Purple Vetch, Reddish Tufted Vetch   \n",
      "1            77          Mammal                       American Mink   \n",
      "2           138  Vascular Plant                        Klamath Plum   \n",
      "3            84  Vascular Plant                          Velvetleaf   \n",
      "4            85  Vascular Plant                      Common Bluecup   \n",
      "\n",
      "  conservation_status  is_protected  \n",
      "0     No Intervention         False  \n",
      "1     No Intervention         False  \n",
      "2     No Intervention         False  \n",
      "3     No Intervention         False  \n",
      "4     No Intervention         False  \n"
     ]
    }
   ],
   "source": [
    "merge_df = observations_df.merge(species_df)\n",
    "print(merge_df.head())"
   ]
  },
  {
   "cell_type": "code",
   "execution_count": 50,
   "metadata": {},
   "outputs": [
    {
     "name": "stdout",
     "output_type": "stream",
     "text": [
      "5019    Great Smoky Mountains National Park: Spiny Sowthistle, 147\n",
      "Name: common_names, dtype: object 5019    False\n",
      "Name: is_protected, dtype: bool\n",
      "1551    Yosemite National Park: Southern Nodding Trillium, 219\n",
      "Name: common_names, dtype: object 1551    False\n",
      "Name: is_protected, dtype: bool\n",
      "2809                                                Bryce National Park: Cultivated Oat, Oats, 163\n",
      "2810    Bryce National Park: Common Oat, Common Oats, Oat, Oatgrass (Common), Oats, Wild Oats, 163\n",
      "Name: common_names, dtype: object 2809    False\n",
      "2810    False\n",
      "Name: is_protected, dtype: bool\n",
      "1164    Yellowstone National Park: Giant Red Indian Paintbrush, Great Red Indian Paintbrush, Great Red Indian-Paintbrush, Scarlet Indian Paintbrush, Scarlet Paintbrush, 317\n",
      "Name: common_names, dtype: object 1164    False\n",
      "Name: is_protected, dtype: bool\n"
     ]
    }
   ],
   "source": [
    "parks = ['Great Smoky Mountains National Park', 'Yosemite National Park', 'Bryce National Park', 'Yellowstone National Park']\n",
    "\n",
    "for park in parks:\n",
    "    max_park = merge_df.observations[merge_df.park_name == park].max()\n",
    "    max_park_species = merge_df.common_names[(merge_df.observations == max_park) & (merge_df.park_name == park)]\n",
    "    max_status = merge_df.is_protected[(merge_df.observations == max_park) & (merge_df.park_name == park)]\n",
    "    print(park + ': ' + max_park_species + ', ' + str(max_park), max_status)\n",
    "    pd.set_option('display.max_colwidth', None)"
   ]
  },
  {
   "cell_type": "markdown",
   "metadata": {},
   "source": [
    "All of the most commonly-observed species in each park are plants. However, the species category most likely to be protected is mammals, so we should investigate which mammal species are the most commonly-observed in each park"
   ]
  },
  {
   "cell_type": "code",
   "execution_count": 20,
   "metadata": {},
   "outputs": [
    {
     "name": "stdout",
     "output_type": "stream",
     "text": [
      "2593    Great Smoky Mountains National Park: Mule-Eared Bat, Pacific Townsend's Big-Eared Bat, Townsend's Big-Eared Bat, Townsend's Big-Eared Bat, Western Big-Eared Bat, Western Long-Eared Bat, Western Lump-Nosed Bat, 111\n",
      "2594                                                                                                                                                       Great Smoky Mountains National Park: Townsend's Big-Eared Bat, 111\n",
      "Name: common_names, dtype: object\n",
      "325    Yosemite National Park: Rafinesque's Big-Eared Bat, 188\n",
      "Name: common_names, dtype: object\n",
      "4856    Bryce National Park: Western Spotted Skunk, 135\n",
      "Name: common_names, dtype: object\n",
      "503               Yellowstone National Park: California Mouse, 276\n",
      "3281    Yellowstone National Park: California Ground Squirrel, 276\n",
      "5247            Yellowstone National Park: Human, Humans, Man, 276\n",
      "Name: common_names, dtype: object\n"
     ]
    }
   ],
   "source": [
    "# Explore which mammal species are observed most at each park\n",
    "\n",
    "parks = ['Great Smoky Mountains National Park', 'Yosemite National Park', 'Bryce National Park', 'Yellowstone National Park']\n",
    "\n",
    "for park in parks:\n",
    "    max_park_mammal = merge_df.observations[(merge_df.park_name == park) & (merge_df.category == 'Mammal')].max()\n",
    "    max_park_mammal_species = merge_df.common_names[(merge_df.observations == max_park_mammal) & (merge_df.park_name == park) & (merge_df.category == 'Mammal')]\n",
    "    print(park + ': ' + max_park_mammal_species + ', '+ str(max_park_mammal))\n",
    "    pd.set_option('display.max_colwidth', None)"
   ]
  },
  {
   "cell_type": "markdown",
   "metadata": {},
   "source": [
    "There are many species of bats listed in the results above. Since they have so many different names, we should investigate the distributions and observations of bats through the parks."
   ]
  },
  {
   "cell_type": "code",
   "execution_count": 21,
   "metadata": {},
   "outputs": [
    {
     "name": "stdout",
     "output_type": "stream",
     "text": [
      "  category                scientific_name  \\\n",
      "0   Mammal  Clethrionomys gapperi gapperi   \n",
      "1   Mammal                      Bos bison   \n",
      "2   Mammal                     Bos taurus   \n",
      "3   Mammal                     Ovis aries   \n",
      "4   Mammal                 Cervus elaphus   \n",
      "\n",
      "                                                     common_names  \\\n",
      "0                                        Gapper's Red-Backed Vole   \n",
      "1                                           American Bison, Bison   \n",
      "2  Aurochs, Aurochs, Domestic Cattle (Feral), Domesticated Cattle   \n",
      "3               Domestic Sheep, Mouflon, Red Sheep, Sheep (Feral)   \n",
      "4                                                   Wapiti Or Elk   \n",
      "\n",
      "  conservation_status  is_protected    bat  \n",
      "0     No Intervention         False  False  \n",
      "1     No Intervention         False  False  \n",
      "2     No Intervention         False  False  \n",
      "3     No Intervention         False  False  \n",
      "4     No Intervention         False  False  \n"
     ]
    }
   ],
   "source": [
    "# Create observation list of bats\n",
    "\n",
    "import string\n",
    "\n",
    "species_df['bat'] = species_df.common_names.str.contains('Bat')\n",
    "print(species_df.head())"
   ]
  },
  {
   "cell_type": "code",
   "execution_count": 23,
   "metadata": {},
   "outputs": [
    {
     "data": {
      "text/html": [
       "<div>\n",
       "<style scoped>\n",
       "    .dataframe tbody tr th:only-of-type {\n",
       "        vertical-align: middle;\n",
       "    }\n",
       "\n",
       "    .dataframe tbody tr th {\n",
       "        vertical-align: top;\n",
       "    }\n",
       "\n",
       "    .dataframe thead th {\n",
       "        text-align: right;\n",
       "    }\n",
       "</style>\n",
       "<table border=\"1\" class=\"dataframe\">\n",
       "  <thead>\n",
       "    <tr style=\"text-align: right;\">\n",
       "      <th></th>\n",
       "      <th>scientific_name</th>\n",
       "      <th>park_name</th>\n",
       "      <th>observations</th>\n",
       "      <th>category</th>\n",
       "      <th>common_names</th>\n",
       "      <th>conservation_status</th>\n",
       "      <th>is_protected</th>\n",
       "      <th>bat</th>\n",
       "    </tr>\n",
       "  </thead>\n",
       "  <tbody>\n",
       "    <tr>\n",
       "      <th>0</th>\n",
       "      <td>Vicia benghalensis</td>\n",
       "      <td>Great Smoky Mountains National Park</td>\n",
       "      <td>68</td>\n",
       "      <td>Vascular Plant</td>\n",
       "      <td>Purple Vetch, Reddish Tufted Vetch</td>\n",
       "      <td>No Intervention</td>\n",
       "      <td>False</td>\n",
       "      <td>False</td>\n",
       "    </tr>\n",
       "    <tr>\n",
       "      <th>1</th>\n",
       "      <td>Neovison vison</td>\n",
       "      <td>Great Smoky Mountains National Park</td>\n",
       "      <td>77</td>\n",
       "      <td>Mammal</td>\n",
       "      <td>American Mink</td>\n",
       "      <td>No Intervention</td>\n",
       "      <td>False</td>\n",
       "      <td>False</td>\n",
       "    </tr>\n",
       "    <tr>\n",
       "      <th>2</th>\n",
       "      <td>Prunus subcordata</td>\n",
       "      <td>Yosemite National Park</td>\n",
       "      <td>138</td>\n",
       "      <td>Vascular Plant</td>\n",
       "      <td>Klamath Plum</td>\n",
       "      <td>No Intervention</td>\n",
       "      <td>False</td>\n",
       "      <td>False</td>\n",
       "    </tr>\n",
       "    <tr>\n",
       "      <th>3</th>\n",
       "      <td>Abutilon theophrasti</td>\n",
       "      <td>Bryce National Park</td>\n",
       "      <td>84</td>\n",
       "      <td>Vascular Plant</td>\n",
       "      <td>Velvetleaf</td>\n",
       "      <td>No Intervention</td>\n",
       "      <td>False</td>\n",
       "      <td>False</td>\n",
       "    </tr>\n",
       "    <tr>\n",
       "      <th>4</th>\n",
       "      <td>Githopsis specularioides</td>\n",
       "      <td>Great Smoky Mountains National Park</td>\n",
       "      <td>85</td>\n",
       "      <td>Vascular Plant</td>\n",
       "      <td>Common Bluecup</td>\n",
       "      <td>No Intervention</td>\n",
       "      <td>False</td>\n",
       "      <td>False</td>\n",
       "    </tr>\n",
       "  </tbody>\n",
       "</table>\n",
       "</div>"
      ],
      "text/plain": [
       "            scientific_name                            park_name  \\\n",
       "0        Vicia benghalensis  Great Smoky Mountains National Park   \n",
       "1            Neovison vison  Great Smoky Mountains National Park   \n",
       "2         Prunus subcordata               Yosemite National Park   \n",
       "3      Abutilon theophrasti                  Bryce National Park   \n",
       "4  Githopsis specularioides  Great Smoky Mountains National Park   \n",
       "\n",
       "   observations        category                        common_names  \\\n",
       "0            68  Vascular Plant  Purple Vetch, Reddish Tufted Vetch   \n",
       "1            77          Mammal                       American Mink   \n",
       "2           138  Vascular Plant                        Klamath Plum   \n",
       "3            84  Vascular Plant                          Velvetleaf   \n",
       "4            85  Vascular Plant                      Common Bluecup   \n",
       "\n",
       "  conservation_status  is_protected    bat  \n",
       "0     No Intervention         False  False  \n",
       "1     No Intervention         False  False  \n",
       "2     No Intervention         False  False  \n",
       "3     No Intervention         False  False  \n",
       "4     No Intervention         False  False  "
      ]
     },
     "execution_count": 23,
     "metadata": {},
     "output_type": "execute_result"
    }
   ],
   "source": [
    "merged_df = observations_df.merge(species_df)\n",
    "merged_df.head()"
   ]
  },
  {
   "cell_type": "code",
   "execution_count": 25,
   "metadata": {},
   "outputs": [
    {
     "data": {
      "text/html": [
       "<div>\n",
       "<style scoped>\n",
       "    .dataframe tbody tr th:only-of-type {\n",
       "        vertical-align: middle;\n",
       "    }\n",
       "\n",
       "    .dataframe tbody tr th {\n",
       "        vertical-align: top;\n",
       "    }\n",
       "\n",
       "    .dataframe thead th {\n",
       "        text-align: right;\n",
       "    }\n",
       "</style>\n",
       "<table border=\"1\" class=\"dataframe\">\n",
       "  <thead>\n",
       "    <tr style=\"text-align: right;\">\n",
       "      <th></th>\n",
       "      <th>scientific_name</th>\n",
       "      <th>park_name</th>\n",
       "      <th>observations</th>\n",
       "      <th>category</th>\n",
       "      <th>common_names</th>\n",
       "      <th>conservation_status</th>\n",
       "      <th>is_protected</th>\n",
       "      <th>bat</th>\n",
       "    </tr>\n",
       "  </thead>\n",
       "  <tbody>\n",
       "    <tr>\n",
       "      <th>281</th>\n",
       "      <td>Lasiurus blossevillii</td>\n",
       "      <td>Bryce National Park</td>\n",
       "      <td>113</td>\n",
       "      <td>Mammal</td>\n",
       "      <td>Western Red Bat</td>\n",
       "      <td>Species of Concern</td>\n",
       "      <td>True</td>\n",
       "      <td>True</td>\n",
       "    </tr>\n",
       "    <tr>\n",
       "      <th>325</th>\n",
       "      <td>Corynorhinus rafinesquii</td>\n",
       "      <td>Yosemite National Park</td>\n",
       "      <td>188</td>\n",
       "      <td>Mammal</td>\n",
       "      <td>Rafinesque's Big-Eared Bat</td>\n",
       "      <td>No Intervention</td>\n",
       "      <td>False</td>\n",
       "      <td>True</td>\n",
       "    </tr>\n",
       "    <tr>\n",
       "      <th>434</th>\n",
       "      <td>Nycticeius humeralis</td>\n",
       "      <td>Yellowstone National Park</td>\n",
       "      <td>219</td>\n",
       "      <td>Mammal</td>\n",
       "      <td>Evening Bat</td>\n",
       "      <td>No Intervention</td>\n",
       "      <td>False</td>\n",
       "      <td>True</td>\n",
       "    </tr>\n",
       "    <tr>\n",
       "      <th>781</th>\n",
       "      <td>Lasiurus borealis</td>\n",
       "      <td>Yosemite National Park</td>\n",
       "      <td>134</td>\n",
       "      <td>Mammal</td>\n",
       "      <td>Eastern Red Bat, Red Bat</td>\n",
       "      <td>No Intervention</td>\n",
       "      <td>False</td>\n",
       "      <td>True</td>\n",
       "    </tr>\n",
       "    <tr>\n",
       "      <th>1015</th>\n",
       "      <td>Centaurea cyanus</td>\n",
       "      <td>Yellowstone National Park</td>\n",
       "      <td>279</td>\n",
       "      <td>Vascular Plant</td>\n",
       "      <td>Batchelor's Button, Corn-Flower</td>\n",
       "      <td>No Intervention</td>\n",
       "      <td>False</td>\n",
       "      <td>True</td>\n",
       "    </tr>\n",
       "    <tr>\n",
       "      <th>1544</th>\n",
       "      <td>Myotis lucifugus</td>\n",
       "      <td>Great Smoky Mountains National Park</td>\n",
       "      <td>57</td>\n",
       "      <td>Mammal</td>\n",
       "      <td>Little Brown Bat, Little Brown Myotis</td>\n",
       "      <td>Species of Concern</td>\n",
       "      <td>True</td>\n",
       "      <td>True</td>\n",
       "    </tr>\n",
       "    <tr>\n",
       "      <th>1545</th>\n",
       "      <td>Myotis lucifugus</td>\n",
       "      <td>Great Smoky Mountains National Park</td>\n",
       "      <td>57</td>\n",
       "      <td>Mammal</td>\n",
       "      <td>Little Brown Bat, Little Brown Myotis, Little Brown Myotis</td>\n",
       "      <td>Species of Concern</td>\n",
       "      <td>True</td>\n",
       "      <td>True</td>\n",
       "    </tr>\n",
       "    <tr>\n",
       "      <th>1597</th>\n",
       "      <td>Eptesicus fuscus</td>\n",
       "      <td>Yellowstone National Park</td>\n",
       "      <td>227</td>\n",
       "      <td>Mammal</td>\n",
       "      <td>Big Brown Bat</td>\n",
       "      <td>Species of Concern</td>\n",
       "      <td>True</td>\n",
       "      <td>True</td>\n",
       "    </tr>\n",
       "    <tr>\n",
       "      <th>1598</th>\n",
       "      <td>Eptesicus fuscus</td>\n",
       "      <td>Yellowstone National Park</td>\n",
       "      <td>227</td>\n",
       "      <td>Mammal</td>\n",
       "      <td>Big Brown Bat, Big Brown Bat</td>\n",
       "      <td>Species of Concern</td>\n",
       "      <td>True</td>\n",
       "      <td>True</td>\n",
       "    </tr>\n",
       "    <tr>\n",
       "      <th>2366</th>\n",
       "      <td>Antrozous pallidus</td>\n",
       "      <td>Great Smoky Mountains National Park</td>\n",
       "      <td>61</td>\n",
       "      <td>Mammal</td>\n",
       "      <td>Pallid Bat, Pallid Bat</td>\n",
       "      <td>Species of Concern</td>\n",
       "      <td>True</td>\n",
       "      <td>True</td>\n",
       "    </tr>\n",
       "    <tr>\n",
       "      <th>2388</th>\n",
       "      <td>Lasiurus cinereus</td>\n",
       "      <td>Yosemite National Park</td>\n",
       "      <td>150</td>\n",
       "      <td>Mammal</td>\n",
       "      <td>Hoary Bat</td>\n",
       "      <td>No Intervention</td>\n",
       "      <td>False</td>\n",
       "      <td>True</td>\n",
       "    </tr>\n",
       "    <tr>\n",
       "      <th>2389</th>\n",
       "      <td>Lasiurus cinereus</td>\n",
       "      <td>Yosemite National Park</td>\n",
       "      <td>150</td>\n",
       "      <td>Mammal</td>\n",
       "      <td>Hoary Bat, Hoary Bat</td>\n",
       "      <td>No Intervention</td>\n",
       "      <td>False</td>\n",
       "      <td>True</td>\n",
       "    </tr>\n",
       "    <tr>\n",
       "      <th>2593</th>\n",
       "      <td>Corynorhinus townsendii</td>\n",
       "      <td>Great Smoky Mountains National Park</td>\n",
       "      <td>111</td>\n",
       "      <td>Mammal</td>\n",
       "      <td>Mule-Eared Bat, Pacific Townsend's Big-Eared Bat, Townsend's Big-Eared Bat, Townsend's Big-Eared Bat, Western Big-Eared Bat, Western Long-Eared Bat, Western Lump-Nosed Bat</td>\n",
       "      <td>No Intervention</td>\n",
       "      <td>False</td>\n",
       "      <td>True</td>\n",
       "    </tr>\n",
       "    <tr>\n",
       "      <th>2594</th>\n",
       "      <td>Corynorhinus townsendii</td>\n",
       "      <td>Great Smoky Mountains National Park</td>\n",
       "      <td>111</td>\n",
       "      <td>Mammal</td>\n",
       "      <td>Townsend's Big-Eared Bat</td>\n",
       "      <td>No Intervention</td>\n",
       "      <td>False</td>\n",
       "      <td>True</td>\n",
       "    </tr>\n",
       "    <tr>\n",
       "      <th>2834</th>\n",
       "      <td>Myotis septentrionalis</td>\n",
       "      <td>Great Smoky Mountains National Park</td>\n",
       "      <td>34</td>\n",
       "      <td>Mammal</td>\n",
       "      <td>Northern Long-Eared Bat, Northern Myotis</td>\n",
       "      <td>Threatened</td>\n",
       "      <td>True</td>\n",
       "      <td>True</td>\n",
       "    </tr>\n",
       "    <tr>\n",
       "      <th>3044</th>\n",
       "      <td>Eumops perotis</td>\n",
       "      <td>Great Smoky Mountains National Park</td>\n",
       "      <td>40</td>\n",
       "      <td>Mammal</td>\n",
       "      <td>Western Mastiff Bat</td>\n",
       "      <td>No Intervention</td>\n",
       "      <td>False</td>\n",
       "      <td>True</td>\n",
       "    </tr>\n",
       "    <tr>\n",
       "      <th>3357</th>\n",
       "      <td>Parastrellus hesperus</td>\n",
       "      <td>Great Smoky Mountains National Park</td>\n",
       "      <td>81</td>\n",
       "      <td>Mammal</td>\n",
       "      <td>Canyon Bat</td>\n",
       "      <td>No Intervention</td>\n",
       "      <td>False</td>\n",
       "      <td>True</td>\n",
       "    </tr>\n",
       "    <tr>\n",
       "      <th>3592</th>\n",
       "      <td>Euderma maculatum</td>\n",
       "      <td>Great Smoky Mountains National Park</td>\n",
       "      <td>94</td>\n",
       "      <td>Mammal</td>\n",
       "      <td>Spotted Bat, Spotted Bat</td>\n",
       "      <td>Species of Concern</td>\n",
       "      <td>True</td>\n",
       "      <td>True</td>\n",
       "    </tr>\n",
       "    <tr>\n",
       "      <th>3765</th>\n",
       "      <td>Myotis ciliolabrum</td>\n",
       "      <td>Bryce National Park</td>\n",
       "      <td>112</td>\n",
       "      <td>Mammal</td>\n",
       "      <td>Small-Footed Myotis, Western Small-Footed Bat, Western Small-Footed Myotis</td>\n",
       "      <td>No Intervention</td>\n",
       "      <td>False</td>\n",
       "      <td>True</td>\n",
       "    </tr>\n",
       "    <tr>\n",
       "      <th>4430</th>\n",
       "      <td>Lasionycteris noctivagans</td>\n",
       "      <td>Yellowstone National Park</td>\n",
       "      <td>245</td>\n",
       "      <td>Mammal</td>\n",
       "      <td>Silver-Haired Bat</td>\n",
       "      <td>Species of Concern</td>\n",
       "      <td>True</td>\n",
       "      <td>True</td>\n",
       "    </tr>\n",
       "    <tr>\n",
       "      <th>4431</th>\n",
       "      <td>Lasionycteris noctivagans</td>\n",
       "      <td>Yellowstone National Park</td>\n",
       "      <td>245</td>\n",
       "      <td>Mammal</td>\n",
       "      <td>Silver-Haired Bat, Silver-Haired Bat</td>\n",
       "      <td>Species of Concern</td>\n",
       "      <td>True</td>\n",
       "      <td>True</td>\n",
       "    </tr>\n",
       "    <tr>\n",
       "      <th>4456</th>\n",
       "      <td>Tadarida brasiliensis</td>\n",
       "      <td>Yosemite National Park</td>\n",
       "      <td>177</td>\n",
       "      <td>Mammal</td>\n",
       "      <td>Mexican Free-Tailed Bat</td>\n",
       "      <td>No Intervention</td>\n",
       "      <td>False</td>\n",
       "      <td>True</td>\n",
       "    </tr>\n",
       "    <tr>\n",
       "      <th>4726</th>\n",
       "      <td>Myotis sodalis</td>\n",
       "      <td>Yosemite National Park</td>\n",
       "      <td>36</td>\n",
       "      <td>Mammal</td>\n",
       "      <td>Indiana Bat, Indiana Or Social Myotis</td>\n",
       "      <td>Endangered</td>\n",
       "      <td>True</td>\n",
       "      <td>True</td>\n",
       "    </tr>\n",
       "    <tr>\n",
       "      <th>5268</th>\n",
       "      <td>Myotis leibii</td>\n",
       "      <td>Yosemite National Park</td>\n",
       "      <td>132</td>\n",
       "      <td>Mammal</td>\n",
       "      <td>Eastern Small-Footed Bat, Eastern Small-Footed Myotis</td>\n",
       "      <td>Species of Concern</td>\n",
       "      <td>True</td>\n",
       "      <td>True</td>\n",
       "    </tr>\n",
       "  </tbody>\n",
       "</table>\n",
       "</div>"
      ],
      "text/plain": [
       "                scientific_name                            park_name  \\\n",
       "281       Lasiurus blossevillii                  Bryce National Park   \n",
       "325    Corynorhinus rafinesquii               Yosemite National Park   \n",
       "434        Nycticeius humeralis            Yellowstone National Park   \n",
       "781           Lasiurus borealis               Yosemite National Park   \n",
       "1015           Centaurea cyanus            Yellowstone National Park   \n",
       "1544           Myotis lucifugus  Great Smoky Mountains National Park   \n",
       "1545           Myotis lucifugus  Great Smoky Mountains National Park   \n",
       "1597           Eptesicus fuscus            Yellowstone National Park   \n",
       "1598           Eptesicus fuscus            Yellowstone National Park   \n",
       "2366         Antrozous pallidus  Great Smoky Mountains National Park   \n",
       "2388          Lasiurus cinereus               Yosemite National Park   \n",
       "2389          Lasiurus cinereus               Yosemite National Park   \n",
       "2593    Corynorhinus townsendii  Great Smoky Mountains National Park   \n",
       "2594    Corynorhinus townsendii  Great Smoky Mountains National Park   \n",
       "2834     Myotis septentrionalis  Great Smoky Mountains National Park   \n",
       "3044             Eumops perotis  Great Smoky Mountains National Park   \n",
       "3357      Parastrellus hesperus  Great Smoky Mountains National Park   \n",
       "3592          Euderma maculatum  Great Smoky Mountains National Park   \n",
       "3765         Myotis ciliolabrum                  Bryce National Park   \n",
       "4430  Lasionycteris noctivagans            Yellowstone National Park   \n",
       "4431  Lasionycteris noctivagans            Yellowstone National Park   \n",
       "4456      Tadarida brasiliensis               Yosemite National Park   \n",
       "4726             Myotis sodalis               Yosemite National Park   \n",
       "5268              Myotis leibii               Yosemite National Park   \n",
       "\n",
       "      observations        category  \\\n",
       "281            113          Mammal   \n",
       "325            188          Mammal   \n",
       "434            219          Mammal   \n",
       "781            134          Mammal   \n",
       "1015           279  Vascular Plant   \n",
       "1544            57          Mammal   \n",
       "1545            57          Mammal   \n",
       "1597           227          Mammal   \n",
       "1598           227          Mammal   \n",
       "2366            61          Mammal   \n",
       "2388           150          Mammal   \n",
       "2389           150          Mammal   \n",
       "2593           111          Mammal   \n",
       "2594           111          Mammal   \n",
       "2834            34          Mammal   \n",
       "3044            40          Mammal   \n",
       "3357            81          Mammal   \n",
       "3592            94          Mammal   \n",
       "3765           112          Mammal   \n",
       "4430           245          Mammal   \n",
       "4431           245          Mammal   \n",
       "4456           177          Mammal   \n",
       "4726            36          Mammal   \n",
       "5268           132          Mammal   \n",
       "\n",
       "                                                                                                                                                                     common_names  \\\n",
       "281                                                                                                                                                               Western Red Bat   \n",
       "325                                                                                                                                                    Rafinesque's Big-Eared Bat   \n",
       "434                                                                                                                                                                   Evening Bat   \n",
       "781                                                                                                                                                      Eastern Red Bat, Red Bat   \n",
       "1015                                                                                                                                              Batchelor's Button, Corn-Flower   \n",
       "1544                                                                                                                                        Little Brown Bat, Little Brown Myotis   \n",
       "1545                                                                                                                   Little Brown Bat, Little Brown Myotis, Little Brown Myotis   \n",
       "1597                                                                                                                                                                Big Brown Bat   \n",
       "1598                                                                                                                                                 Big Brown Bat, Big Brown Bat   \n",
       "2366                                                                                                                                                       Pallid Bat, Pallid Bat   \n",
       "2388                                                                                                                                                                    Hoary Bat   \n",
       "2389                                                                                                                                                         Hoary Bat, Hoary Bat   \n",
       "2593  Mule-Eared Bat, Pacific Townsend's Big-Eared Bat, Townsend's Big-Eared Bat, Townsend's Big-Eared Bat, Western Big-Eared Bat, Western Long-Eared Bat, Western Lump-Nosed Bat   \n",
       "2594                                                                                                                                                     Townsend's Big-Eared Bat   \n",
       "2834                                                                                                                                     Northern Long-Eared Bat, Northern Myotis   \n",
       "3044                                                                                                                                                          Western Mastiff Bat   \n",
       "3357                                                                                                                                                                   Canyon Bat   \n",
       "3592                                                                                                                                                     Spotted Bat, Spotted Bat   \n",
       "3765                                                                                                   Small-Footed Myotis, Western Small-Footed Bat, Western Small-Footed Myotis   \n",
       "4430                                                                                                                                                            Silver-Haired Bat   \n",
       "4431                                                                                                                                         Silver-Haired Bat, Silver-Haired Bat   \n",
       "4456                                                                                                                                                      Mexican Free-Tailed Bat   \n",
       "4726                                                                                                                                        Indiana Bat, Indiana Or Social Myotis   \n",
       "5268                                                                                                                        Eastern Small-Footed Bat, Eastern Small-Footed Myotis   \n",
       "\n",
       "     conservation_status  is_protected   bat  \n",
       "281   Species of Concern          True  True  \n",
       "325      No Intervention         False  True  \n",
       "434      No Intervention         False  True  \n",
       "781      No Intervention         False  True  \n",
       "1015     No Intervention         False  True  \n",
       "1544  Species of Concern          True  True  \n",
       "1545  Species of Concern          True  True  \n",
       "1597  Species of Concern          True  True  \n",
       "1598  Species of Concern          True  True  \n",
       "2366  Species of Concern          True  True  \n",
       "2388     No Intervention         False  True  \n",
       "2389     No Intervention         False  True  \n",
       "2593     No Intervention         False  True  \n",
       "2594     No Intervention         False  True  \n",
       "2834          Threatened          True  True  \n",
       "3044     No Intervention         False  True  \n",
       "3357     No Intervention         False  True  \n",
       "3592  Species of Concern          True  True  \n",
       "3765     No Intervention         False  True  \n",
       "4430  Species of Concern          True  True  \n",
       "4431  Species of Concern          True  True  \n",
       "4456     No Intervention         False  True  \n",
       "4726          Endangered          True  True  \n",
       "5268  Species of Concern          True  True  "
      ]
     },
     "execution_count": 25,
     "metadata": {},
     "output_type": "execute_result"
    }
   ],
   "source": [
    "bats = merged_df[merged_df.bat == True]\n",
    "bats"
   ]
  },
  {
   "cell_type": "code",
   "execution_count": 32,
   "metadata": {},
   "outputs": [
    {
     "data": {
      "text/html": [
       "<div>\n",
       "<style scoped>\n",
       "    .dataframe tbody tr th:only-of-type {\n",
       "        vertical-align: middle;\n",
       "    }\n",
       "\n",
       "    .dataframe tbody tr th {\n",
       "        vertical-align: top;\n",
       "    }\n",
       "\n",
       "    .dataframe thead th {\n",
       "        text-align: right;\n",
       "    }\n",
       "</style>\n",
       "<table border=\"1\" class=\"dataframe\">\n",
       "  <thead>\n",
       "    <tr style=\"text-align: right;\">\n",
       "      <th></th>\n",
       "      <th>park_name</th>\n",
       "      <th>observations</th>\n",
       "    </tr>\n",
       "  </thead>\n",
       "  <tbody>\n",
       "    <tr>\n",
       "      <th>0</th>\n",
       "      <td>Bryce National Park</td>\n",
       "      <td>225</td>\n",
       "    </tr>\n",
       "    <tr>\n",
       "      <th>1</th>\n",
       "      <td>Great Smoky Mountains National Park</td>\n",
       "      <td>646</td>\n",
       "    </tr>\n",
       "    <tr>\n",
       "      <th>2</th>\n",
       "      <td>Yellowstone National Park</td>\n",
       "      <td>1442</td>\n",
       "    </tr>\n",
       "    <tr>\n",
       "      <th>3</th>\n",
       "      <td>Yosemite National Park</td>\n",
       "      <td>967</td>\n",
       "    </tr>\n",
       "  </tbody>\n",
       "</table>\n",
       "</div>"
      ],
      "text/plain": [
       "                             park_name  observations\n",
       "0                  Bryce National Park           225\n",
       "1  Great Smoky Mountains National Park           646\n",
       "2            Yellowstone National Park          1442\n",
       "3               Yosemite National Park           967"
      ]
     },
     "execution_count": 32,
     "metadata": {},
     "output_type": "execute_result"
    }
   ],
   "source": [
    "bats_parks = bats.groupby('park_name').observations.sum().reset_index()\n",
    "bats_parks"
   ]
  },
  {
   "cell_type": "code",
   "execution_count": 35,
   "metadata": {
    "scrolled": true
   },
   "outputs": [
    {
     "data": {
      "text/html": [
       "<div>\n",
       "<style scoped>\n",
       "    .dataframe tbody tr th:only-of-type {\n",
       "        vertical-align: middle;\n",
       "    }\n",
       "\n",
       "    .dataframe tbody tr th {\n",
       "        vertical-align: top;\n",
       "    }\n",
       "\n",
       "    .dataframe thead th {\n",
       "        text-align: right;\n",
       "    }\n",
       "</style>\n",
       "<table border=\"1\" class=\"dataframe\">\n",
       "  <thead>\n",
       "    <tr style=\"text-align: right;\">\n",
       "      <th></th>\n",
       "      <th>park_name</th>\n",
       "      <th>is_protected</th>\n",
       "      <th>observations</th>\n",
       "    </tr>\n",
       "  </thead>\n",
       "  <tbody>\n",
       "    <tr>\n",
       "      <th>0</th>\n",
       "      <td>Bryce National Park</td>\n",
       "      <td>False</td>\n",
       "      <td>112</td>\n",
       "    </tr>\n",
       "    <tr>\n",
       "      <th>1</th>\n",
       "      <td>Bryce National Park</td>\n",
       "      <td>True</td>\n",
       "      <td>113</td>\n",
       "    </tr>\n",
       "    <tr>\n",
       "      <th>2</th>\n",
       "      <td>Great Smoky Mountains National Park</td>\n",
       "      <td>False</td>\n",
       "      <td>343</td>\n",
       "    </tr>\n",
       "    <tr>\n",
       "      <th>3</th>\n",
       "      <td>Great Smoky Mountains National Park</td>\n",
       "      <td>True</td>\n",
       "      <td>303</td>\n",
       "    </tr>\n",
       "    <tr>\n",
       "      <th>4</th>\n",
       "      <td>Yellowstone National Park</td>\n",
       "      <td>False</td>\n",
       "      <td>498</td>\n",
       "    </tr>\n",
       "    <tr>\n",
       "      <th>5</th>\n",
       "      <td>Yellowstone National Park</td>\n",
       "      <td>True</td>\n",
       "      <td>944</td>\n",
       "    </tr>\n",
       "    <tr>\n",
       "      <th>6</th>\n",
       "      <td>Yosemite National Park</td>\n",
       "      <td>False</td>\n",
       "      <td>799</td>\n",
       "    </tr>\n",
       "    <tr>\n",
       "      <th>7</th>\n",
       "      <td>Yosemite National Park</td>\n",
       "      <td>True</td>\n",
       "      <td>168</td>\n",
       "    </tr>\n",
       "  </tbody>\n",
       "</table>\n",
       "</div>"
      ],
      "text/plain": [
       "                             park_name  is_protected  observations\n",
       "0                  Bryce National Park         False           112\n",
       "1                  Bryce National Park          True           113\n",
       "2  Great Smoky Mountains National Park         False           343\n",
       "3  Great Smoky Mountains National Park          True           303\n",
       "4            Yellowstone National Park         False           498\n",
       "5            Yellowstone National Park          True           944\n",
       "6               Yosemite National Park         False           799\n",
       "7               Yosemite National Park          True           168"
      ]
     },
     "execution_count": 35,
     "metadata": {},
     "output_type": "execute_result"
    }
   ],
   "source": [
    "bats_park_protections = bats.groupby(['park_name', 'is_protected']).observations.sum().reset_index()\n",
    "bats_park_protections"
   ]
  },
  {
   "cell_type": "code",
   "execution_count": 45,
   "metadata": {},
   "outputs": [
    {
     "data": {
      "image/png": "[encoded data removed]",
      "text/plain": [
       "<Figure size 1080x576 with 1 Axes>"
      ]
     },
     "metadata": {
      "needs_background": "light"
     },
     "output_type": "display_data"
    },
    {
     "data": {
      "text/plain": [
       "<Figure size 432x288 with 0 Axes>"
      ]
     },
     "metadata": {},
     "output_type": "display_data"
    }
   ],
   "source": [
    "plt.figure(figsize = (15, 8))\n",
    "sns.barplot(x = bats_park_protections.park_name, y = bats_park_protections.observations, hue = bats_park_protections.is_protected)\n",
    "plt.title('Number of Bats Observed in one Week by Park and Conservation Status')\n",
    "plt.xlabel('Park Name')\n",
    "plt.ylabel('Number of Bats Observed')\n",
    "plt.show()\n",
    "plt.clf()"
   ]
  },
  {
   "cell_type": "markdown",
   "metadata": {},
   "source": [
    "Bats are most likely to be observed in Yellowstone, where most of the observed species are protected."
   ]
  },
  {
   "cell_type": "markdown",
   "metadata": {},
   "source": [
    "Birds are almost as likely as mammals to be protected. We should explore which bird species are most commonly-observed in each park."
   ]
  },
  {
   "cell_type": "code",
   "execution_count": 56,
   "metadata": {},
   "outputs": [
    {
     "name": "stdout",
     "output_type": "stream",
     "text": [
      "2922    Great Smoky Mountains National Park: Mountain White-Crowned Sparrow, 123\n",
      "5102                        Great Smoky Mountains National Park: Sooty Tern, 123\n",
      "Name: common_names, dtype: object 2453    False\n",
      "2922    False\n",
      "5102    False\n",
      "Name: is_protected, dtype: bool\n",
      "2330    Yosemite National Park: Blue-Winged Teal, 190\n",
      "Name: common_names, dtype: object 1649    False\n",
      "1650    False\n",
      "2330    False\n",
      "4521    False\n",
      "Name: is_protected, dtype: bool\n",
      "4098    Bryce National Park: Eurasian Treecreeper, 158\n",
      "Name: common_names, dtype: object 4098    False\n",
      "Name: is_protected, dtype: bool\n",
      "517    Yellowstone National Park: Lawrence's Goldfinch, 305\n",
      "Name: common_names, dtype: object 517    False\n",
      "Name: is_protected, dtype: bool\n"
     ]
    }
   ],
   "source": [
    "# Explore observations of bird species in the parks\n",
    "\n",
    "parks = ['Great Smoky Mountains National Park', 'Yosemite National Park', 'Bryce National Park', 'Yellowstone National Park']\n",
    "\n",
    "for park in parks:\n",
    "    max_park_bird = merge_df.observations[(merge_df.park_name == park) & (merge_df.category == 'Bird')].max()\n",
    "    max_park_bird_species = merge_df.common_names[(merge_df.observations == max_park_bird) & (merge_df.park_name == park) & (merge_df.category == 'Bird')]\n",
    "    bird_status = merge_df.is_protected[(merge_df.observations == max_park_bird) & (merge_df.park_name == park)]\n",
    "    print(park + ': ' + max_park_bird_species + ', '+ str(max_park_bird) , bird_status)\n",
    "    pd.set_option('display.max_colwidth', None)"
   ]
  },
  {
   "cell_type": "markdown",
   "metadata": {},
   "source": [
    "There is no clear pattern to the types of birds that are most likely to be observed in each park. However, none of the most common species are protected. "
   ]
  },
  {
   "cell_type": "code",
   "execution_count": 58,
   "metadata": {},
   "outputs": [
    {
     "name": "stdout",
     "output_type": "stream",
     "text": [
      "418    Great Smoky Mountains National Park: Lesser Scaup, 115\n",
      "Name: common_names, dtype: object\n",
      "25                                            Yosemite National Park: Bonaparte's Gull, 167\n",
      "1432                                               Yosemite National Park: Common Loon, 167\n",
      "1433    Yosemite National Park: Common Loon, Great Northern Diver, Great Northern Loon, 167\n",
      "Name: common_names, dtype: object\n",
      "449    Bryce National Park: Olive-Sided Flycatcher, 130\n",
      "Name: common_names, dtype: object\n",
      "347    Yellowstone National Park: Marbled Godwit, 266\n",
      "Name: common_names, dtype: object\n"
     ]
    }
   ],
   "source": [
    "# Check which protected bird species is most commonly observed in each park\n",
    "\n",
    "parks = ['Great Smoky Mountains National Park', 'Yosemite National Park', 'Bryce National Park', 'Yellowstone National Park']\n",
    "\n",
    "for park in parks:\n",
    "    max_park_bird = merge_df.observations[(merge_df.park_name == park) & (merge_df.category == 'Bird') & (merge_df.is_protected == True)].max()\n",
    "    max_park_bird_species = merge_df.common_names[(merge_df.observations == max_park_bird) & (merge_df.park_name == park) & (merge_df.category == 'Bird')]\n",
    "    print(park + ': ' + max_park_bird_species + ', '+ str(max_park_bird))\n",
    "    pd.set_option('display.max_colwidth', None)"
   ]
  },
  {
   "cell_type": "markdown",
   "metadata": {},
   "source": [
    "The most common protected species of birds at 3 of the 4 parks are water/shore birds. It makes sense that this would not be the case at Bryce National Park, since it has very little water."
   ]
  },
  {
   "cell_type": "markdown",
   "metadata": {},
   "source": [
    "# Conclusions"
   ]
  },
  {
   "cell_type": "markdown",
   "metadata": {},
   "source": [
    "This analysis answered the following questions:\n",
    "\n",
    "What is the distribution of conservation status for animals?\n",
    "The majority of observed species are not under protection. Most of the species that are protected are listed as Species of Concern.\n",
    "\n",
    "Are certain types of species more likely to be endangered?\n",
    "Mammals and birds are the most likely type of species to be protected.\n",
    "\n",
    "Are the differences between species and their conservation status significant?\n",
    "There is no observed statistical significance between mammals and birds. Mammals are more likely than reptiles to be protected, but the significance of the difference between reptile and birds is inconclusive.\n",
    "\n",
    "Which species were spotted the most at each park?\n",
    "The top observed species at each park were vascular plants, none of which are protected.\n",
    "The most commonly-observed mammals were species of bats, which are most commonly observed at Yellowstone, where most of the observed species are protected.\n",
    "The most commonly-observed protected bird species are almost all water/shore birds. This is a reasonable observation, since shorebirds are in decline overall more than most other types of birds."
   ]
  },
  {
   "cell_type": "markdown",
   "metadata": {},
   "source": [
    "# Further Research"
   ]
  },
  {
   "cell_type": "markdown",
   "metadata": {},
   "source": [
    "These observations took place over one week, so this data does not show fluctuations throughout different times of the year. It is also likely that the type of environment would impact what species are observed. For example, Bryce Canyon National Park is mostly desert-like, while Great Smoky Mountains National Park is heavily wooded mountains. There are also many other national parks not included in this study that would be of interest due to their different geographical features, such as the colder climates of Glacier National Park and Denali National Park."
   ]
  }
 ],
 "metadata": {
  "kernelspec": {
   "display_name": "Python 3 (ipykernel)",
   "language": "python",
   "name": "python3"
  },
  "language_info": {
   "codemirror_mode": {
    "name": "ipython",
    "version": 3
   },
   "file_extension": ".py",
   "mimetype": "text/x-python",
   "name": "python",
   "nbconvert_exporter": "python",
   "pygments_lexer": "ipython3",
   "version": "3.9.12"
  }
 },
 "nbformat": 4,
 "nbformat_minor": 4
}
